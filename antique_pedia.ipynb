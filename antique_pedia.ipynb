{
  "nbformat": 4,
  "nbformat_minor": 0,
  "metadata": {
    "colab": {
      "name": "antique_pedia.ipynb",
      "provenance": [],
      "collapsed_sections": [],
      "include_colab_link": true
    },
    "kernelspec": {
      "name": "python3",
      "display_name": "Python 3"
    },
    "accelerator": "GPU"
  },
  "cells": [
    {
      "cell_type": "markdown",
      "metadata": {
        "id": "view-in-github",
        "colab_type": "text"
      },
      "source": [
        "<a href=\"https://colab.research.google.com/github/aviresler/antique-gen/blob/master/antique_pedia.ipynb\" target=\"_parent\"><img src=\"https://colab.research.google.com/assets/colab-badge.svg\" alt=\"Open In Colab\"/></a>"
      ]
    },
    {
      "cell_type": "markdown",
      "metadata": {
        "id": "unLfQI5VlW4S",
        "colab_type": "text"
      },
      "source": [
        "Install packages - run once\n",
        "\n",
        "\n"
      ]
    },
    {
      "cell_type": "code",
      "metadata": {
        "id": "3pnwezRIwLTQ",
        "colab_type": "code",
        "colab": {}
      },
      "source": [
        "!pip install keras_efficientnets\n",
        "!pip install keras_applications"
      ],
      "execution_count": null,
      "outputs": []
    },
    {
      "cell_type": "markdown",
      "metadata": {
        "id": "5RZPRHcFlOZp",
        "colab_type": "text"
      },
      "source": [
        "Load model - run once"
      ]
    },
    {
      "cell_type": "code",
      "metadata": {
        "id": "i1fdno-gRmeb",
        "colab_type": "code",
        "colab": {}
      },
      "source": [
        "from pydrive.auth import GoogleAuth\n",
        "from pydrive.drive import GoogleDrive\n",
        "from google.colab import auth\n",
        "from oauth2client.client import GoogleCredentials\n",
        "\n",
        "auth.authenticate_user()\n",
        "gauth = GoogleAuth()\n",
        "gauth.credentials = GoogleCredentials.get_application_default()\n",
        "drive = GoogleDrive(gauth)\n",
        "downloaded = drive.CreateFile({'id':\"1oFKI98Xy6Apvu82HbfIbhRiWS4kVEwBO\"})\n",
        "downloaded.GetContentFile('images_600.zip')\n",
        "downloaded = drive.CreateFile({'id':\"1-5r_8H5LtSPvcTroXccSGLpulrHdT0RT\"})\n",
        "downloaded.GetContentFile('models.zip')\n",
        "!unzip images_600.zip\n",
        "!unzip models.zip\n",
        "!rm images_600.zip\n",
        "!rm models.zip"
      ],
      "execution_count": null,
      "outputs": []
    },
    {
      "cell_type": "markdown",
      "metadata": {
        "id": "Oi7lGj0jo_nY",
        "colab_type": "text"
      },
      "source": [
        "Prediction - can run multiple times.\n",
        "\n",
        "-You will be asked to choose an image from your computer at the bottom of this cell.\n",
        "\n",
        "-5 similar images with their label will be shown at the bottom of the cell."
      ]
    },
    {
      "cell_type": "code",
      "metadata": {
        "id": "iB2M19NLiygn",
        "colab_type": "code",
        "colab": {}
      },
      "source": [
        "from keras_efficientnets import EfficientNetB3\n",
        "from keras.layers import Dense, Activation, GlobalAveragePooling2D, Input\n",
        "from keras.models import Model\n",
        "from keras.preprocessing import image\n",
        "import numpy as np\n",
        "from sklearn.metrics.pairwise import cosine_similarity\n",
        "import csv\n",
        "from google.colab import files\n",
        "import os\n",
        "import matplotlib.pyplot as plt\n",
        "import matplotlib.image as mpimg\n",
        "%matplotlib inline\n",
        "\n",
        "MODEL_PATH = 'efficientNetB3_softmax_f_10-10-0.03_53.99.hdf5'\n",
        "TRAINING_EMBEDDINGS = 'efficientNetB3_softmax_f_10__train9_53.99.csv'\n",
        "TRAINING_LABELS = 'efficientNetB3_softmax_f_10__train9_53.99.tsv'\n",
        "CLASSES_CSV_FILE = 'classes_top200.csv'\n",
        "\n",
        "\n",
        "def build_efficientNet():\n",
        "    base_model = EfficientNetB3((300, 300, 3),\n",
        "                                include_top=False)\n",
        "    inp = Input(shape=(300, 300, 3), name='main_input')\n",
        "    x = base_model(inp)\n",
        "    embeddings = GlobalAveragePooling2D(name='embeddings')(x)\n",
        "    x = Dense(int(200), )(embeddings)\n",
        "    out = Activation(\"softmax\", name='out')(x)\n",
        "\n",
        "    return Model(inputs=inp, outputs=[embeddings, out])\n",
        "\n",
        "def preprocess_input(x):\n",
        "    x /= 255.\n",
        "    x -= 0.5\n",
        "    x *= 2.\n",
        "    return x\n",
        "\n",
        "def test_model_on_query_imgaes(train_embeddings, train_labels, query_embeddings, classes_csv_file,class_mode = 'site_period'):\n",
        "\n",
        "    N_neighbours = 5\n",
        "\n",
        "    similaity_mat = cosine_similarity(query_embeddings, train_embeddings, dense_output=True)\n",
        "    arg_sort_similaity = np.argsort(similaity_mat, axis=1)\n",
        "    arg_sort_similaity = np.flip(arg_sort_similaity,axis =1)\n",
        "    neighbours_ind = arg_sort_similaity[:,:N_neighbours]\n",
        "\n",
        "    neighbours_cls = train_labels[neighbours_ind[0,:]]\n",
        "\n",
        "    cnt = 0\n",
        "    clasee_names = {}\n",
        "    with open(classes_csv_file, 'r') as f:\n",
        "        reader = csv.reader(f)\n",
        "        for row in reader:\n",
        "            if cnt > 0:\n",
        "                if class_mode == 'site_period':\n",
        "                    clasee_names[int(row[0])] = row[1]\n",
        "                elif class_mode == 'period':\n",
        "                    clasee_names[int(row[5])] = row[3]\n",
        "                elif class_mode == 'site':\n",
        "                    clasee_names[int(row[6])] = row[4]\n",
        "                else:\n",
        "                    raise\n",
        "            cnt = cnt + 1\n",
        "\n",
        "    train_files = []\n",
        "    with open('train_file_names.csv', 'r') as f:\n",
        "        reader = csv.reader(f)\n",
        "        for row in reader:\n",
        "            train_files.append(row[0])\n",
        "\n",
        "    dictt = {}\n",
        "    for k in range(N_neighbours):\n",
        "        url = 'images_600/train/' + train_files[arg_sort_similaity[0, k]]\n",
        "        title = clasee_names[neighbours_cls[0]] + '_' + str(k)\n",
        "        dictt[title] = url\n",
        "\n",
        "\n",
        "    return dictt\n",
        "\n",
        "def model_predict(img_path, model):\n",
        "\n",
        "    img = image.load_img(img_path, target_size=(300, 300))\n",
        "\n",
        "    # Preprocessing the image\n",
        "    x = image.img_to_array(img)\n",
        "    # x = np.true_divide(x, 255)\n",
        "    x = np.expand_dims(x, axis=0)\n",
        "\n",
        "    x = preprocess_input(x)\n",
        "\n",
        "    # load training set embeddings\n",
        "    train_embeddings = np.genfromtxt(TRAINING_EMBEDDINGS, delimiter=',')\n",
        "    train_labels = np.genfromtxt(TRAINING_LABELS, delimiter='\\t')\n",
        "\n",
        "    query_embeddings = model.predict(x)\n",
        "    query_embeddings = query_embeddings[0]\n",
        "\n",
        "    summary = test_model_on_query_imgaes(train_embeddings, train_labels, query_embeddings, CLASSES_CSV_FILE, class_mode='site_period')\n",
        "\n",
        "    return summary\n",
        "\n",
        "model = build_efficientNet()\n",
        "model.load_weights(MODEL_PATH)\n",
        "\n",
        "\n",
        "data_to_load = files.upload()\n",
        "for key, value in data_to_load.items():\n",
        "  summ = model_predict(key, model)\n",
        "  # print original image\n",
        "  input_img = mpimg.imread(key)\n",
        "  plt.figure(figsize=(10, 10))\n",
        "  plt.imshow(input_img)\n",
        "  plt.title('input image',fontsize=24)\n",
        "  plt.axis('off')\n",
        "  for label, path in summ.items():\n",
        "      pred_img = mpimg.imread(path)\n",
        "      plt.figure(figsize=(10, 10))\n",
        "      plt.imshow(pred_img)\n",
        "      plt.title(label,fontsize=24)\n",
        "      plt.axis('off')\n",
        "\n",
        "  os.remove(key)\n",
        "\n"
      ],
      "execution_count": null,
      "outputs": []
    }
  ]
}